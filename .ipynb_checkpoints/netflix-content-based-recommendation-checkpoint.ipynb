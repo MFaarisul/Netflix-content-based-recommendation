{
 "cells": [
  {
   "cell_type": "markdown",
   "metadata": {},
   "source": [
    "# Netflix Movie and TV Show Recommendation"
   ]
  },
  {
   "cell_type": "markdown",
   "metadata": {},
   "source": [
    "In this notebook, we are going to build a recommender system based on [Netflix](https://www.kaggle.com/datasets/shivamb/netflix-shows) dataset. There are several types of recommender systems, one of which is Content-Based Filtering. That's what we focus on in this particular notebook since we are not dealing with any user data such as user's rating and review. The idea is to get the features of each item (content) and give the user a recommendation based on the similarity between them\n",
    "\n",
    "**Let's jump right into the code**\n",
    "\n",
    "\n",
    "\n",
    "\n",
    "![](https://www.researchgate.net/profile/Lionel-Ngoupeyou-Tondji/publication/323726564/figure/fig5/AS:631605009846299@1527597777415/Content-based-filtering-vs-Collaborative-filtering-Source.png)"
   ]
  },
  {
   "cell_type": "markdown",
   "metadata": {},
   "source": [
    "### Importing Libraries"
   ]
  },
  {
   "cell_type": "code",
   "execution_count": 1,
   "metadata": {
    "execution": {
     "iopub.execute_input": "2022-06-03T03:17:20.481900Z",
     "iopub.status.busy": "2022-06-03T03:17:20.481372Z",
     "iopub.status.idle": "2022-06-03T03:17:21.025643Z",
     "shell.execute_reply": "2022-06-03T03:17:21.024132Z",
     "shell.execute_reply.started": "2022-06-03T03:17:20.481855Z"
    }
   },
   "outputs": [],
   "source": [
    "import string\n",
    "import numpy as np\n",
    "import pandas as pd\n",
    "import sklearn\n",
    "\n",
    "import warnings\n",
    "warnings.filterwarnings('ignore')"
   ]
  },
  {
   "cell_type": "markdown",
   "metadata": {},
   "source": [
    "### Loading and Understanding the Data"
   ]
  },
  {
   "cell_type": "code",
   "execution_count": 2,
   "metadata": {
    "execution": {
     "iopub.execute_input": "2022-06-03T03:17:21.027950Z",
     "iopub.status.busy": "2022-06-03T03:17:21.027518Z",
     "iopub.status.idle": "2022-06-03T03:17:21.201514Z",
     "shell.execute_reply": "2022-06-03T03:17:21.200152Z",
     "shell.execute_reply.started": "2022-06-03T03:17:21.027903Z"
    }
   },
   "outputs": [
    {
     "data": {
      "text/html": [
       "<div>\n",
       "<style scoped>\n",
       "    .dataframe tbody tr th:only-of-type {\n",
       "        vertical-align: middle;\n",
       "    }\n",
       "\n",
       "    .dataframe tbody tr th {\n",
       "        vertical-align: top;\n",
       "    }\n",
       "\n",
       "    .dataframe thead th {\n",
       "        text-align: right;\n",
       "    }\n",
       "</style>\n",
       "<table border=\"1\" class=\"dataframe\">\n",
       "  <thead>\n",
       "    <tr style=\"text-align: right;\">\n",
       "      <th></th>\n",
       "      <th>show_id</th>\n",
       "      <th>type</th>\n",
       "      <th>title</th>\n",
       "      <th>director</th>\n",
       "      <th>cast</th>\n",
       "      <th>country</th>\n",
       "      <th>date_added</th>\n",
       "      <th>release_year</th>\n",
       "      <th>rating</th>\n",
       "      <th>duration</th>\n",
       "      <th>listed_in</th>\n",
       "      <th>description</th>\n",
       "    </tr>\n",
       "  </thead>\n",
       "  <tbody>\n",
       "    <tr>\n",
       "      <th>0</th>\n",
       "      <td>s1</td>\n",
       "      <td>Movie</td>\n",
       "      <td>Dick Johnson Is Dead</td>\n",
       "      <td>Kirsten Johnson</td>\n",
       "      <td>NaN</td>\n",
       "      <td>United States</td>\n",
       "      <td>September 25, 2021</td>\n",
       "      <td>2020</td>\n",
       "      <td>PG-13</td>\n",
       "      <td>90 min</td>\n",
       "      <td>Documentaries</td>\n",
       "      <td>As her father nears the end of his life, filmm...</td>\n",
       "    </tr>\n",
       "    <tr>\n",
       "      <th>1</th>\n",
       "      <td>s2</td>\n",
       "      <td>TV Show</td>\n",
       "      <td>Blood &amp; Water</td>\n",
       "      <td>NaN</td>\n",
       "      <td>Ama Qamata, Khosi Ngema, Gail Mabalane, Thaban...</td>\n",
       "      <td>South Africa</td>\n",
       "      <td>September 24, 2021</td>\n",
       "      <td>2021</td>\n",
       "      <td>TV-MA</td>\n",
       "      <td>2 Seasons</td>\n",
       "      <td>International TV Shows, TV Dramas, TV Mysteries</td>\n",
       "      <td>After crossing paths at a party, a Cape Town t...</td>\n",
       "    </tr>\n",
       "    <tr>\n",
       "      <th>2</th>\n",
       "      <td>s3</td>\n",
       "      <td>TV Show</td>\n",
       "      <td>Ganglands</td>\n",
       "      <td>Julien Leclercq</td>\n",
       "      <td>Sami Bouajila, Tracy Gotoas, Samuel Jouy, Nabi...</td>\n",
       "      <td>NaN</td>\n",
       "      <td>September 24, 2021</td>\n",
       "      <td>2021</td>\n",
       "      <td>TV-MA</td>\n",
       "      <td>1 Season</td>\n",
       "      <td>Crime TV Shows, International TV Shows, TV Act...</td>\n",
       "      <td>To protect his family from a powerful drug lor...</td>\n",
       "    </tr>\n",
       "    <tr>\n",
       "      <th>3</th>\n",
       "      <td>s4</td>\n",
       "      <td>TV Show</td>\n",
       "      <td>Jailbirds New Orleans</td>\n",
       "      <td>NaN</td>\n",
       "      <td>NaN</td>\n",
       "      <td>NaN</td>\n",
       "      <td>September 24, 2021</td>\n",
       "      <td>2021</td>\n",
       "      <td>TV-MA</td>\n",
       "      <td>1 Season</td>\n",
       "      <td>Docuseries, Reality TV</td>\n",
       "      <td>Feuds, flirtations and toilet talk go down amo...</td>\n",
       "    </tr>\n",
       "    <tr>\n",
       "      <th>4</th>\n",
       "      <td>s5</td>\n",
       "      <td>TV Show</td>\n",
       "      <td>Kota Factory</td>\n",
       "      <td>NaN</td>\n",
       "      <td>Mayur More, Jitendra Kumar, Ranjan Raj, Alam K...</td>\n",
       "      <td>India</td>\n",
       "      <td>September 24, 2021</td>\n",
       "      <td>2021</td>\n",
       "      <td>TV-MA</td>\n",
       "      <td>2 Seasons</td>\n",
       "      <td>International TV Shows, Romantic TV Shows, TV ...</td>\n",
       "      <td>In a city of coaching centers known to train I...</td>\n",
       "    </tr>\n",
       "  </tbody>\n",
       "</table>\n",
       "</div>"
      ],
      "text/plain": [
       "  show_id     type                  title         director  \\\n",
       "0      s1    Movie   Dick Johnson Is Dead  Kirsten Johnson   \n",
       "1      s2  TV Show          Blood & Water              NaN   \n",
       "2      s3  TV Show              Ganglands  Julien Leclercq   \n",
       "3      s4  TV Show  Jailbirds New Orleans              NaN   \n",
       "4      s5  TV Show           Kota Factory              NaN   \n",
       "\n",
       "                                                cast        country  \\\n",
       "0                                                NaN  United States   \n",
       "1  Ama Qamata, Khosi Ngema, Gail Mabalane, Thaban...   South Africa   \n",
       "2  Sami Bouajila, Tracy Gotoas, Samuel Jouy, Nabi...            NaN   \n",
       "3                                                NaN            NaN   \n",
       "4  Mayur More, Jitendra Kumar, Ranjan Raj, Alam K...          India   \n",
       "\n",
       "           date_added  release_year rating   duration  \\\n",
       "0  September 25, 2021          2020  PG-13     90 min   \n",
       "1  September 24, 2021          2021  TV-MA  2 Seasons   \n",
       "2  September 24, 2021          2021  TV-MA   1 Season   \n",
       "3  September 24, 2021          2021  TV-MA   1 Season   \n",
       "4  September 24, 2021          2021  TV-MA  2 Seasons   \n",
       "\n",
       "                                           listed_in  \\\n",
       "0                                      Documentaries   \n",
       "1    International TV Shows, TV Dramas, TV Mysteries   \n",
       "2  Crime TV Shows, International TV Shows, TV Act...   \n",
       "3                             Docuseries, Reality TV   \n",
       "4  International TV Shows, Romantic TV Shows, TV ...   \n",
       "\n",
       "                                         description  \n",
       "0  As her father nears the end of his life, filmm...  \n",
       "1  After crossing paths at a party, a Cape Town t...  \n",
       "2  To protect his family from a powerful drug lor...  \n",
       "3  Feuds, flirtations and toilet talk go down amo...  \n",
       "4  In a city of coaching centers known to train I...  "
      ]
     },
     "execution_count": 2,
     "metadata": {},
     "output_type": "execute_result"
    }
   ],
   "source": [
    "df = pd.read_csv('Data//netflix_titles.csv')\n",
    "df.head()"
   ]
  },
  {
   "cell_type": "code",
   "execution_count": 3,
   "metadata": {
    "execution": {
     "iopub.execute_input": "2022-06-03T03:17:21.203637Z",
     "iopub.status.busy": "2022-06-03T03:17:21.203123Z",
     "iopub.status.idle": "2022-06-03T03:17:21.303749Z",
     "shell.execute_reply": "2022-06-03T03:17:21.302782Z",
     "shell.execute_reply.started": "2022-06-03T03:17:21.203585Z"
    }
   },
   "outputs": [
    {
     "data": {
      "text/html": [
       "<div>\n",
       "<style scoped>\n",
       "    .dataframe tbody tr th:only-of-type {\n",
       "        vertical-align: middle;\n",
       "    }\n",
       "\n",
       "    .dataframe tbody tr th {\n",
       "        vertical-align: top;\n",
       "    }\n",
       "\n",
       "    .dataframe thead th {\n",
       "        text-align: right;\n",
       "    }\n",
       "</style>\n",
       "<table border=\"1\" class=\"dataframe\">\n",
       "  <thead>\n",
       "    <tr style=\"text-align: right;\">\n",
       "      <th></th>\n",
       "      <th>show_id</th>\n",
       "      <th>type</th>\n",
       "      <th>title</th>\n",
       "      <th>director</th>\n",
       "      <th>cast</th>\n",
       "      <th>country</th>\n",
       "      <th>date_added</th>\n",
       "      <th>release_year</th>\n",
       "      <th>rating</th>\n",
       "      <th>duration</th>\n",
       "      <th>listed_in</th>\n",
       "      <th>description</th>\n",
       "    </tr>\n",
       "  </thead>\n",
       "  <tbody>\n",
       "    <tr>\n",
       "      <th>count</th>\n",
       "      <td>8807</td>\n",
       "      <td>8807</td>\n",
       "      <td>8807</td>\n",
       "      <td>6173</td>\n",
       "      <td>7982</td>\n",
       "      <td>7976</td>\n",
       "      <td>8797</td>\n",
       "      <td>8807.000000</td>\n",
       "      <td>8803</td>\n",
       "      <td>8804</td>\n",
       "      <td>8807</td>\n",
       "      <td>8807</td>\n",
       "    </tr>\n",
       "    <tr>\n",
       "      <th>unique</th>\n",
       "      <td>8807</td>\n",
       "      <td>2</td>\n",
       "      <td>8807</td>\n",
       "      <td>4528</td>\n",
       "      <td>7692</td>\n",
       "      <td>748</td>\n",
       "      <td>1767</td>\n",
       "      <td>NaN</td>\n",
       "      <td>17</td>\n",
       "      <td>220</td>\n",
       "      <td>514</td>\n",
       "      <td>8775</td>\n",
       "    </tr>\n",
       "    <tr>\n",
       "      <th>top</th>\n",
       "      <td>s1</td>\n",
       "      <td>Movie</td>\n",
       "      <td>Dick Johnson Is Dead</td>\n",
       "      <td>Rajiv Chilaka</td>\n",
       "      <td>David Attenborough</td>\n",
       "      <td>United States</td>\n",
       "      <td>January 1, 2020</td>\n",
       "      <td>NaN</td>\n",
       "      <td>TV-MA</td>\n",
       "      <td>1 Season</td>\n",
       "      <td>Dramas, International Movies</td>\n",
       "      <td>Paranormal activity at a lush, abandoned prope...</td>\n",
       "    </tr>\n",
       "    <tr>\n",
       "      <th>freq</th>\n",
       "      <td>1</td>\n",
       "      <td>6131</td>\n",
       "      <td>1</td>\n",
       "      <td>19</td>\n",
       "      <td>19</td>\n",
       "      <td>2818</td>\n",
       "      <td>109</td>\n",
       "      <td>NaN</td>\n",
       "      <td>3207</td>\n",
       "      <td>1793</td>\n",
       "      <td>362</td>\n",
       "      <td>4</td>\n",
       "    </tr>\n",
       "    <tr>\n",
       "      <th>mean</th>\n",
       "      <td>NaN</td>\n",
       "      <td>NaN</td>\n",
       "      <td>NaN</td>\n",
       "      <td>NaN</td>\n",
       "      <td>NaN</td>\n",
       "      <td>NaN</td>\n",
       "      <td>NaN</td>\n",
       "      <td>2014.180198</td>\n",
       "      <td>NaN</td>\n",
       "      <td>NaN</td>\n",
       "      <td>NaN</td>\n",
       "      <td>NaN</td>\n",
       "    </tr>\n",
       "    <tr>\n",
       "      <th>std</th>\n",
       "      <td>NaN</td>\n",
       "      <td>NaN</td>\n",
       "      <td>NaN</td>\n",
       "      <td>NaN</td>\n",
       "      <td>NaN</td>\n",
       "      <td>NaN</td>\n",
       "      <td>NaN</td>\n",
       "      <td>8.819312</td>\n",
       "      <td>NaN</td>\n",
       "      <td>NaN</td>\n",
       "      <td>NaN</td>\n",
       "      <td>NaN</td>\n",
       "    </tr>\n",
       "    <tr>\n",
       "      <th>min</th>\n",
       "      <td>NaN</td>\n",
       "      <td>NaN</td>\n",
       "      <td>NaN</td>\n",
       "      <td>NaN</td>\n",
       "      <td>NaN</td>\n",
       "      <td>NaN</td>\n",
       "      <td>NaN</td>\n",
       "      <td>1925.000000</td>\n",
       "      <td>NaN</td>\n",
       "      <td>NaN</td>\n",
       "      <td>NaN</td>\n",
       "      <td>NaN</td>\n",
       "    </tr>\n",
       "    <tr>\n",
       "      <th>25%</th>\n",
       "      <td>NaN</td>\n",
       "      <td>NaN</td>\n",
       "      <td>NaN</td>\n",
       "      <td>NaN</td>\n",
       "      <td>NaN</td>\n",
       "      <td>NaN</td>\n",
       "      <td>NaN</td>\n",
       "      <td>2013.000000</td>\n",
       "      <td>NaN</td>\n",
       "      <td>NaN</td>\n",
       "      <td>NaN</td>\n",
       "      <td>NaN</td>\n",
       "    </tr>\n",
       "    <tr>\n",
       "      <th>50%</th>\n",
       "      <td>NaN</td>\n",
       "      <td>NaN</td>\n",
       "      <td>NaN</td>\n",
       "      <td>NaN</td>\n",
       "      <td>NaN</td>\n",
       "      <td>NaN</td>\n",
       "      <td>NaN</td>\n",
       "      <td>2017.000000</td>\n",
       "      <td>NaN</td>\n",
       "      <td>NaN</td>\n",
       "      <td>NaN</td>\n",
       "      <td>NaN</td>\n",
       "    </tr>\n",
       "    <tr>\n",
       "      <th>75%</th>\n",
       "      <td>NaN</td>\n",
       "      <td>NaN</td>\n",
       "      <td>NaN</td>\n",
       "      <td>NaN</td>\n",
       "      <td>NaN</td>\n",
       "      <td>NaN</td>\n",
       "      <td>NaN</td>\n",
       "      <td>2019.000000</td>\n",
       "      <td>NaN</td>\n",
       "      <td>NaN</td>\n",
       "      <td>NaN</td>\n",
       "      <td>NaN</td>\n",
       "    </tr>\n",
       "    <tr>\n",
       "      <th>max</th>\n",
       "      <td>NaN</td>\n",
       "      <td>NaN</td>\n",
       "      <td>NaN</td>\n",
       "      <td>NaN</td>\n",
       "      <td>NaN</td>\n",
       "      <td>NaN</td>\n",
       "      <td>NaN</td>\n",
       "      <td>2021.000000</td>\n",
       "      <td>NaN</td>\n",
       "      <td>NaN</td>\n",
       "      <td>NaN</td>\n",
       "      <td>NaN</td>\n",
       "    </tr>\n",
       "  </tbody>\n",
       "</table>\n",
       "</div>"
      ],
      "text/plain": [
       "       show_id   type                 title       director  \\\n",
       "count     8807   8807                  8807           6173   \n",
       "unique    8807      2                  8807           4528   \n",
       "top         s1  Movie  Dick Johnson Is Dead  Rajiv Chilaka   \n",
       "freq         1   6131                     1             19   \n",
       "mean       NaN    NaN                   NaN            NaN   \n",
       "std        NaN    NaN                   NaN            NaN   \n",
       "min        NaN    NaN                   NaN            NaN   \n",
       "25%        NaN    NaN                   NaN            NaN   \n",
       "50%        NaN    NaN                   NaN            NaN   \n",
       "75%        NaN    NaN                   NaN            NaN   \n",
       "max        NaN    NaN                   NaN            NaN   \n",
       "\n",
       "                      cast        country       date_added  release_year  \\\n",
       "count                 7982           7976             8797   8807.000000   \n",
       "unique                7692            748             1767           NaN   \n",
       "top     David Attenborough  United States  January 1, 2020           NaN   \n",
       "freq                    19           2818              109           NaN   \n",
       "mean                   NaN            NaN              NaN   2014.180198   \n",
       "std                    NaN            NaN              NaN      8.819312   \n",
       "min                    NaN            NaN              NaN   1925.000000   \n",
       "25%                    NaN            NaN              NaN   2013.000000   \n",
       "50%                    NaN            NaN              NaN   2017.000000   \n",
       "75%                    NaN            NaN              NaN   2019.000000   \n",
       "max                    NaN            NaN              NaN   2021.000000   \n",
       "\n",
       "       rating  duration                     listed_in  \\\n",
       "count    8803      8804                          8807   \n",
       "unique     17       220                           514   \n",
       "top     TV-MA  1 Season  Dramas, International Movies   \n",
       "freq     3207      1793                           362   \n",
       "mean      NaN       NaN                           NaN   \n",
       "std       NaN       NaN                           NaN   \n",
       "min       NaN       NaN                           NaN   \n",
       "25%       NaN       NaN                           NaN   \n",
       "50%       NaN       NaN                           NaN   \n",
       "75%       NaN       NaN                           NaN   \n",
       "max       NaN       NaN                           NaN   \n",
       "\n",
       "                                              description  \n",
       "count                                                8807  \n",
       "unique                                               8775  \n",
       "top     Paranormal activity at a lush, abandoned prope...  \n",
       "freq                                                    4  \n",
       "mean                                                  NaN  \n",
       "std                                                   NaN  \n",
       "min                                                   NaN  \n",
       "25%                                                   NaN  \n",
       "50%                                                   NaN  \n",
       "75%                                                   NaN  \n",
       "max                                                   NaN  "
      ]
     },
     "execution_count": 3,
     "metadata": {},
     "output_type": "execute_result"
    }
   ],
   "source": [
    "df.describe(include='all')"
   ]
  },
  {
   "cell_type": "code",
   "execution_count": 4,
   "metadata": {
    "execution": {
     "iopub.execute_input": "2022-06-03T03:17:21.307062Z",
     "iopub.status.busy": "2022-06-03T03:17:21.306529Z",
     "iopub.status.idle": "2022-06-03T03:17:21.336336Z",
     "shell.execute_reply": "2022-06-03T03:17:21.335256Z",
     "shell.execute_reply.started": "2022-06-03T03:17:21.307013Z"
    }
   },
   "outputs": [
    {
     "name": "stdout",
     "output_type": "stream",
     "text": [
      "<class 'pandas.core.frame.DataFrame'>\n",
      "RangeIndex: 8807 entries, 0 to 8806\n",
      "Data columns (total 12 columns):\n",
      " #   Column        Non-Null Count  Dtype \n",
      "---  ------        --------------  ----- \n",
      " 0   show_id       8807 non-null   object\n",
      " 1   type          8807 non-null   object\n",
      " 2   title         8807 non-null   object\n",
      " 3   director      6173 non-null   object\n",
      " 4   cast          7982 non-null   object\n",
      " 5   country       7976 non-null   object\n",
      " 6   date_added    8797 non-null   object\n",
      " 7   release_year  8807 non-null   int64 \n",
      " 8   rating        8803 non-null   object\n",
      " 9   duration      8804 non-null   object\n",
      " 10  listed_in     8807 non-null   object\n",
      " 11  description   8807 non-null   object\n",
      "dtypes: int64(1), object(11)\n",
      "memory usage: 825.8+ KB\n"
     ]
    }
   ],
   "source": [
    "df.info()"
   ]
  },
  {
   "cell_type": "code",
   "execution_count": 5,
   "metadata": {
    "execution": {
     "iopub.execute_input": "2022-06-03T03:17:21.339200Z",
     "iopub.status.busy": "2022-06-03T03:17:21.337769Z",
     "iopub.status.idle": "2022-06-03T03:17:21.386891Z",
     "shell.execute_reply": "2022-06-03T03:17:21.385825Z",
     "shell.execute_reply.started": "2022-06-03T03:17:21.339151Z"
    }
   },
   "outputs": [
    {
     "data": {
      "text/html": [
       "<div>\n",
       "<style scoped>\n",
       "    .dataframe tbody tr th:only-of-type {\n",
       "        vertical-align: middle;\n",
       "    }\n",
       "\n",
       "    .dataframe tbody tr th {\n",
       "        vertical-align: top;\n",
       "    }\n",
       "\n",
       "    .dataframe thead th {\n",
       "        text-align: right;\n",
       "    }\n",
       "</style>\n",
       "<table border=\"1\" class=\"dataframe\">\n",
       "  <thead>\n",
       "    <tr style=\"text-align: right;\">\n",
       "      <th></th>\n",
       "      <th>Total missing values</th>\n",
       "      <th>Percentage</th>\n",
       "    </tr>\n",
       "  </thead>\n",
       "  <tbody>\n",
       "    <tr>\n",
       "      <th>show_id</th>\n",
       "      <td>0</td>\n",
       "      <td>0.000000</td>\n",
       "    </tr>\n",
       "    <tr>\n",
       "      <th>type</th>\n",
       "      <td>0</td>\n",
       "      <td>0.000000</td>\n",
       "    </tr>\n",
       "    <tr>\n",
       "      <th>title</th>\n",
       "      <td>0</td>\n",
       "      <td>0.000000</td>\n",
       "    </tr>\n",
       "    <tr>\n",
       "      <th>director</th>\n",
       "      <td>2634</td>\n",
       "      <td>29.908028</td>\n",
       "    </tr>\n",
       "    <tr>\n",
       "      <th>cast</th>\n",
       "      <td>825</td>\n",
       "      <td>9.367549</td>\n",
       "    </tr>\n",
       "    <tr>\n",
       "      <th>country</th>\n",
       "      <td>831</td>\n",
       "      <td>9.435676</td>\n",
       "    </tr>\n",
       "    <tr>\n",
       "      <th>date_added</th>\n",
       "      <td>10</td>\n",
       "      <td>0.113546</td>\n",
       "    </tr>\n",
       "    <tr>\n",
       "      <th>release_year</th>\n",
       "      <td>0</td>\n",
       "      <td>0.000000</td>\n",
       "    </tr>\n",
       "    <tr>\n",
       "      <th>rating</th>\n",
       "      <td>4</td>\n",
       "      <td>0.045418</td>\n",
       "    </tr>\n",
       "    <tr>\n",
       "      <th>duration</th>\n",
       "      <td>3</td>\n",
       "      <td>0.034064</td>\n",
       "    </tr>\n",
       "    <tr>\n",
       "      <th>listed_in</th>\n",
       "      <td>0</td>\n",
       "      <td>0.000000</td>\n",
       "    </tr>\n",
       "    <tr>\n",
       "      <th>description</th>\n",
       "      <td>0</td>\n",
       "      <td>0.000000</td>\n",
       "    </tr>\n",
       "  </tbody>\n",
       "</table>\n",
       "</div>"
      ],
      "text/plain": [
       "              Total missing values  Percentage\n",
       "show_id                          0    0.000000\n",
       "type                             0    0.000000\n",
       "title                            0    0.000000\n",
       "director                      2634   29.908028\n",
       "cast                           825    9.367549\n",
       "country                        831    9.435676\n",
       "date_added                      10    0.113546\n",
       "release_year                     0    0.000000\n",
       "rating                           4    0.045418\n",
       "duration                         3    0.034064\n",
       "listed_in                        0    0.000000\n",
       "description                      0    0.000000"
      ]
     },
     "execution_count": 5,
     "metadata": {},
     "output_type": "execute_result"
    }
   ],
   "source": [
    "pd.DataFrame({'Total missing values':df.isna().sum(),\n",
    "              'Percentage':(df.isna().sum()/len(df))*100})"
   ]
  },
  {
   "cell_type": "markdown",
   "metadata": {},
   "source": [
    "### Build the Recommender System"
   ]
  },
  {
   "cell_type": "markdown",
   "metadata": {},
   "source": [
    "We won't use all the columns or features for this notebook. So then, the recommendation that we give to the users will only consider the information contained in the following columns:\n",
    "- Type\n",
    "- Director\n",
    "- Rating\n",
    "- Listed_in\n",
    "- Description"
   ]
  },
  {
   "cell_type": "code",
   "execution_count": 6,
   "metadata": {
    "execution": {
     "iopub.execute_input": "2022-06-03T03:17:21.389370Z",
     "iopub.status.busy": "2022-06-03T03:17:21.388157Z",
     "iopub.status.idle": "2022-06-03T03:17:21.408463Z",
     "shell.execute_reply": "2022-06-03T03:17:21.407582Z",
     "shell.execute_reply.started": "2022-06-03T03:17:21.389332Z"
    }
   },
   "outputs": [
    {
     "data": {
      "text/html": [
       "<div>\n",
       "<style scoped>\n",
       "    .dataframe tbody tr th:only-of-type {\n",
       "        vertical-align: middle;\n",
       "    }\n",
       "\n",
       "    .dataframe tbody tr th {\n",
       "        vertical-align: top;\n",
       "    }\n",
       "\n",
       "    .dataframe thead th {\n",
       "        text-align: right;\n",
       "    }\n",
       "</style>\n",
       "<table border=\"1\" class=\"dataframe\">\n",
       "  <thead>\n",
       "    <tr style=\"text-align: right;\">\n",
       "      <th></th>\n",
       "      <th>type</th>\n",
       "      <th>director</th>\n",
       "      <th>cast</th>\n",
       "      <th>rating</th>\n",
       "      <th>listed_in</th>\n",
       "      <th>description</th>\n",
       "    </tr>\n",
       "    <tr>\n",
       "      <th>title</th>\n",
       "      <th></th>\n",
       "      <th></th>\n",
       "      <th></th>\n",
       "      <th></th>\n",
       "      <th></th>\n",
       "      <th></th>\n",
       "    </tr>\n",
       "  </thead>\n",
       "  <tbody>\n",
       "    <tr>\n",
       "      <th>Dick Johnson Is Dead</th>\n",
       "      <td>Movie</td>\n",
       "      <td>Kirsten Johnson</td>\n",
       "      <td>NaN</td>\n",
       "      <td>PG-13</td>\n",
       "      <td>Documentaries</td>\n",
       "      <td>As her father nears the end of his life, filmm...</td>\n",
       "    </tr>\n",
       "    <tr>\n",
       "      <th>Blood &amp; Water</th>\n",
       "      <td>TV Show</td>\n",
       "      <td>NaN</td>\n",
       "      <td>Ama Qamata, Khosi Ngema, Gail Mabalane, Thaban...</td>\n",
       "      <td>TV-MA</td>\n",
       "      <td>International TV Shows, TV Dramas, TV Mysteries</td>\n",
       "      <td>After crossing paths at a party, a Cape Town t...</td>\n",
       "    </tr>\n",
       "    <tr>\n",
       "      <th>Ganglands</th>\n",
       "      <td>TV Show</td>\n",
       "      <td>Julien Leclercq</td>\n",
       "      <td>Sami Bouajila, Tracy Gotoas, Samuel Jouy, Nabi...</td>\n",
       "      <td>TV-MA</td>\n",
       "      <td>Crime TV Shows, International TV Shows, TV Act...</td>\n",
       "      <td>To protect his family from a powerful drug lor...</td>\n",
       "    </tr>\n",
       "    <tr>\n",
       "      <th>Jailbirds New Orleans</th>\n",
       "      <td>TV Show</td>\n",
       "      <td>NaN</td>\n",
       "      <td>NaN</td>\n",
       "      <td>TV-MA</td>\n",
       "      <td>Docuseries, Reality TV</td>\n",
       "      <td>Feuds, flirtations and toilet talk go down amo...</td>\n",
       "    </tr>\n",
       "    <tr>\n",
       "      <th>Kota Factory</th>\n",
       "      <td>TV Show</td>\n",
       "      <td>NaN</td>\n",
       "      <td>Mayur More, Jitendra Kumar, Ranjan Raj, Alam K...</td>\n",
       "      <td>TV-MA</td>\n",
       "      <td>International TV Shows, Romantic TV Shows, TV ...</td>\n",
       "      <td>In a city of coaching centers known to train I...</td>\n",
       "    </tr>\n",
       "  </tbody>\n",
       "</table>\n",
       "</div>"
      ],
      "text/plain": [
       "                          type         director  \\\n",
       "title                                             \n",
       "Dick Johnson Is Dead     Movie  Kirsten Johnson   \n",
       "Blood & Water          TV Show              NaN   \n",
       "Ganglands              TV Show  Julien Leclercq   \n",
       "Jailbirds New Orleans  TV Show              NaN   \n",
       "Kota Factory           TV Show              NaN   \n",
       "\n",
       "                                                                    cast  \\\n",
       "title                                                                      \n",
       "Dick Johnson Is Dead                                                 NaN   \n",
       "Blood & Water          Ama Qamata, Khosi Ngema, Gail Mabalane, Thaban...   \n",
       "Ganglands              Sami Bouajila, Tracy Gotoas, Samuel Jouy, Nabi...   \n",
       "Jailbirds New Orleans                                                NaN   \n",
       "Kota Factory           Mayur More, Jitendra Kumar, Ranjan Raj, Alam K...   \n",
       "\n",
       "                      rating  \\\n",
       "title                          \n",
       "Dick Johnson Is Dead   PG-13   \n",
       "Blood & Water          TV-MA   \n",
       "Ganglands              TV-MA   \n",
       "Jailbirds New Orleans  TV-MA   \n",
       "Kota Factory           TV-MA   \n",
       "\n",
       "                                                               listed_in  \\\n",
       "title                                                                      \n",
       "Dick Johnson Is Dead                                       Documentaries   \n",
       "Blood & Water            International TV Shows, TV Dramas, TV Mysteries   \n",
       "Ganglands              Crime TV Shows, International TV Shows, TV Act...   \n",
       "Jailbirds New Orleans                             Docuseries, Reality TV   \n",
       "Kota Factory           International TV Shows, Romantic TV Shows, TV ...   \n",
       "\n",
       "                                                             description  \n",
       "title                                                                     \n",
       "Dick Johnson Is Dead   As her father nears the end of his life, filmm...  \n",
       "Blood & Water          After crossing paths at a party, a Cape Town t...  \n",
       "Ganglands              To protect his family from a powerful drug lor...  \n",
       "Jailbirds New Orleans  Feuds, flirtations and toilet talk go down amo...  \n",
       "Kota Factory           In a city of coaching centers known to train I...  "
      ]
     },
     "execution_count": 6,
     "metadata": {},
     "output_type": "execute_result"
    }
   ],
   "source": [
    "new_df = df[['title', 'type', 'director', 'cast', 'rating', 'listed_in', 'description']]\n",
    "new_df.set_index('title', inplace=True)\n",
    "new_df.head()"
   ]
  },
  {
   "cell_type": "markdown",
   "metadata": {},
   "source": [
    "If you take a look at the missing values in this dataset, you will realize that the director column has 2634 NaN values which correspond with almost 30 percents of total data in that column. So, we can't just drop the NaN values because we will lose lots of movies to be given, instead we just fill the NaN values with empty string"
   ]
  },
  {
   "cell_type": "code",
   "execution_count": 7,
   "metadata": {
    "execution": {
     "iopub.execute_input": "2022-06-03T03:17:21.410358Z",
     "iopub.status.busy": "2022-06-03T03:17:21.409612Z",
     "iopub.status.idle": "2022-06-03T03:17:21.425870Z",
     "shell.execute_reply": "2022-06-03T03:17:21.424381Z",
     "shell.execute_reply.started": "2022-06-03T03:17:21.410321Z"
    }
   },
   "outputs": [],
   "source": [
    "new_df.fillna('', inplace=True)"
   ]
  },
  {
   "cell_type": "code",
   "execution_count": 8,
   "metadata": {
    "execution": {
     "iopub.execute_input": "2022-06-03T03:17:21.429046Z",
     "iopub.status.busy": "2022-06-03T03:17:21.428554Z",
     "iopub.status.idle": "2022-06-03T03:17:21.438870Z",
     "shell.execute_reply": "2022-06-03T03:17:21.436819Z",
     "shell.execute_reply.started": "2022-06-03T03:17:21.429005Z"
    }
   },
   "outputs": [],
   "source": [
    "# For director, cast, and listed_in\n",
    "# Because there is more than 1 people and categories\n",
    "# We don't want if people share the same first or last name consider the same person\n",
    "# or the word that appear in many categories (TV, etc) consider the same category\n",
    "def separate(texts):\n",
    "    t = []\n",
    "    for text in texts.split(','):\n",
    "        t.append(text.replace(' ', '').lower())\n",
    "    return ' '.join(t)\n",
    "\n",
    "def remove_space(texts):\n",
    "    return texts.replace(' ', '').lower()\n",
    "\n",
    "def remove_punc(texts):\n",
    "    return texts.translate(str.maketrans('','',string.punctuation)).lower()"
   ]
  },
  {
   "cell_type": "code",
   "execution_count": 9,
   "metadata": {
    "execution": {
     "iopub.execute_input": "2022-06-03T03:17:21.557383Z",
     "iopub.status.busy": "2022-06-03T03:17:21.556301Z",
     "iopub.status.idle": "2022-06-03T03:17:21.723776Z",
     "shell.execute_reply": "2022-06-03T03:17:21.722946Z",
     "shell.execute_reply.started": "2022-06-03T03:17:21.557325Z"
    }
   },
   "outputs": [
    {
     "data": {
      "text/html": [
       "<div>\n",
       "<style scoped>\n",
       "    .dataframe tbody tr th:only-of-type {\n",
       "        vertical-align: middle;\n",
       "    }\n",
       "\n",
       "    .dataframe tbody tr th {\n",
       "        vertical-align: top;\n",
       "    }\n",
       "\n",
       "    .dataframe thead th {\n",
       "        text-align: right;\n",
       "    }\n",
       "</style>\n",
       "<table border=\"1\" class=\"dataframe\">\n",
       "  <thead>\n",
       "    <tr style=\"text-align: right;\">\n",
       "      <th></th>\n",
       "      <th>type</th>\n",
       "      <th>director</th>\n",
       "      <th>cast</th>\n",
       "      <th>rating</th>\n",
       "      <th>listed_in</th>\n",
       "      <th>description</th>\n",
       "    </tr>\n",
       "    <tr>\n",
       "      <th>title</th>\n",
       "      <th></th>\n",
       "      <th></th>\n",
       "      <th></th>\n",
       "      <th></th>\n",
       "      <th></th>\n",
       "      <th></th>\n",
       "    </tr>\n",
       "  </thead>\n",
       "  <tbody>\n",
       "    <tr>\n",
       "      <th>Dick Johnson Is Dead</th>\n",
       "      <td>movie</td>\n",
       "      <td>kirstenjohnson</td>\n",
       "      <td></td>\n",
       "      <td>pg-13</td>\n",
       "      <td>documentaries</td>\n",
       "      <td>as her father nears the end of his life filmma...</td>\n",
       "    </tr>\n",
       "    <tr>\n",
       "      <th>Blood &amp; Water</th>\n",
       "      <td>tvshow</td>\n",
       "      <td></td>\n",
       "      <td>amaqamata khosingema gailmabalane thabangmolab...</td>\n",
       "      <td>tv-ma</td>\n",
       "      <td>internationaltvshows tvdramas tvmysteries</td>\n",
       "      <td>after crossing paths at a party a cape town te...</td>\n",
       "    </tr>\n",
       "    <tr>\n",
       "      <th>Ganglands</th>\n",
       "      <td>tvshow</td>\n",
       "      <td>julienleclercq</td>\n",
       "      <td>samibouajila tracygotoas samueljouy nabihaakka...</td>\n",
       "      <td>tv-ma</td>\n",
       "      <td>crimetvshows internationaltvshows tvaction&amp;adv...</td>\n",
       "      <td>to protect his family from a powerful drug lor...</td>\n",
       "    </tr>\n",
       "    <tr>\n",
       "      <th>Jailbirds New Orleans</th>\n",
       "      <td>tvshow</td>\n",
       "      <td></td>\n",
       "      <td></td>\n",
       "      <td>tv-ma</td>\n",
       "      <td>docuseries realitytv</td>\n",
       "      <td>feuds flirtations and toilet talk go down amon...</td>\n",
       "    </tr>\n",
       "    <tr>\n",
       "      <th>Kota Factory</th>\n",
       "      <td>tvshow</td>\n",
       "      <td></td>\n",
       "      <td>mayurmore jitendrakumar ranjanraj alamkhan ahs...</td>\n",
       "      <td>tv-ma</td>\n",
       "      <td>internationaltvshows romantictvshows tvcomedies</td>\n",
       "      <td>in a city of coaching centers known to train i...</td>\n",
       "    </tr>\n",
       "  </tbody>\n",
       "</table>\n",
       "</div>"
      ],
      "text/plain": [
       "                         type        director  \\\n",
       "title                                           \n",
       "Dick Johnson Is Dead    movie  kirstenjohnson   \n",
       "Blood & Water          tvshow                   \n",
       "Ganglands              tvshow  julienleclercq   \n",
       "Jailbirds New Orleans  tvshow                   \n",
       "Kota Factory           tvshow                   \n",
       "\n",
       "                                                                    cast  \\\n",
       "title                                                                      \n",
       "Dick Johnson Is Dead                                                       \n",
       "Blood & Water          amaqamata khosingema gailmabalane thabangmolab...   \n",
       "Ganglands              samibouajila tracygotoas samueljouy nabihaakka...   \n",
       "Jailbirds New Orleans                                                      \n",
       "Kota Factory           mayurmore jitendrakumar ranjanraj alamkhan ahs...   \n",
       "\n",
       "                      rating  \\\n",
       "title                          \n",
       "Dick Johnson Is Dead   pg-13   \n",
       "Blood & Water          tv-ma   \n",
       "Ganglands              tv-ma   \n",
       "Jailbirds New Orleans  tv-ma   \n",
       "Kota Factory           tv-ma   \n",
       "\n",
       "                                                               listed_in  \\\n",
       "title                                                                      \n",
       "Dick Johnson Is Dead                                       documentaries   \n",
       "Blood & Water                  internationaltvshows tvdramas tvmysteries   \n",
       "Ganglands              crimetvshows internationaltvshows tvaction&adv...   \n",
       "Jailbirds New Orleans                               docuseries realitytv   \n",
       "Kota Factory             internationaltvshows romantictvshows tvcomedies   \n",
       "\n",
       "                                                             description  \n",
       "title                                                                     \n",
       "Dick Johnson Is Dead   as her father nears the end of his life filmma...  \n",
       "Blood & Water          after crossing paths at a party a cape town te...  \n",
       "Ganglands              to protect his family from a powerful drug lor...  \n",
       "Jailbirds New Orleans  feuds flirtations and toilet talk go down amon...  \n",
       "Kota Factory           in a city of coaching centers known to train i...  "
      ]
     },
     "execution_count": 9,
     "metadata": {},
     "output_type": "execute_result"
    }
   ],
   "source": [
    "new_df['type'] = new_df['type'].apply(remove_space)\n",
    "new_df['director'] = new_df['director'].apply(separate)\n",
    "new_df['cast'] = new_df['cast'].apply(separate)\n",
    "new_df['rating'] = new_df['rating'].apply(remove_space)\n",
    "new_df['listed_in'] = new_df['listed_in'].apply(separate)\n",
    "new_df['description'] = new_df['description'].apply(remove_punc)\n",
    "\n",
    "new_df.head()"
   ]
  },
  {
   "cell_type": "code",
   "execution_count": 10,
   "metadata": {
    "execution": {
     "iopub.execute_input": "2022-06-03T03:17:21.725759Z",
     "iopub.status.busy": "2022-06-03T03:17:21.725266Z",
     "iopub.status.idle": "2022-06-03T03:17:30.518451Z",
     "shell.execute_reply": "2022-06-03T03:17:30.517452Z",
     "shell.execute_reply.started": "2022-06-03T03:17:21.725728Z"
    }
   },
   "outputs": [],
   "source": [
    "new_df['bag_of_words'] = ''\n",
    "\n",
    "# Combine all the words into 1 column\n",
    "for i, row in enumerate(new_df.iterrows()):\n",
    "    string = ''\n",
    "    for col in new_df.columns:\n",
    "        if row[1][col] == '':\n",
    "            continue\n",
    "        else:\n",
    "            string += row[1][col] + ' '\n",
    "            new_df['bag_of_words'][i] = string.strip()\n",
    "\n",
    "new_df.drop(new_df.columns[:-1], axis=1, inplace=True)"
   ]
  },
  {
   "cell_type": "code",
   "execution_count": 11,
   "metadata": {
    "execution": {
     "iopub.execute_input": "2022-06-03T03:17:30.520575Z",
     "iopub.status.busy": "2022-06-03T03:17:30.520199Z",
     "iopub.status.idle": "2022-06-03T03:17:30.530531Z",
     "shell.execute_reply": "2022-06-03T03:17:30.529536Z",
     "shell.execute_reply.started": "2022-06-03T03:17:30.520542Z"
    }
   },
   "outputs": [
    {
     "data": {
      "text/html": [
       "<div>\n",
       "<style scoped>\n",
       "    .dataframe tbody tr th:only-of-type {\n",
       "        vertical-align: middle;\n",
       "    }\n",
       "\n",
       "    .dataframe tbody tr th {\n",
       "        vertical-align: top;\n",
       "    }\n",
       "\n",
       "    .dataframe thead th {\n",
       "        text-align: right;\n",
       "    }\n",
       "</style>\n",
       "<table border=\"1\" class=\"dataframe\">\n",
       "  <thead>\n",
       "    <tr style=\"text-align: right;\">\n",
       "      <th></th>\n",
       "      <th>bag_of_words</th>\n",
       "    </tr>\n",
       "    <tr>\n",
       "      <th>title</th>\n",
       "      <th></th>\n",
       "    </tr>\n",
       "  </thead>\n",
       "  <tbody>\n",
       "    <tr>\n",
       "      <th>Dick Johnson Is Dead</th>\n",
       "      <td>movie kirstenjohnson pg-13 documentaries as he...</td>\n",
       "    </tr>\n",
       "    <tr>\n",
       "      <th>Blood &amp; Water</th>\n",
       "      <td>tvshow amaqamata khosingema gailmabalane thaba...</td>\n",
       "    </tr>\n",
       "    <tr>\n",
       "      <th>Ganglands</th>\n",
       "      <td>tvshow julienleclercq samibouajila tracygotoas...</td>\n",
       "    </tr>\n",
       "    <tr>\n",
       "      <th>Jailbirds New Orleans</th>\n",
       "      <td>tvshow tv-ma docuseries realitytv feuds flirta...</td>\n",
       "    </tr>\n",
       "    <tr>\n",
       "      <th>Kota Factory</th>\n",
       "      <td>tvshow mayurmore jitendrakumar ranjanraj alamk...</td>\n",
       "    </tr>\n",
       "  </tbody>\n",
       "</table>\n",
       "</div>"
      ],
      "text/plain": [
       "                                                            bag_of_words\n",
       "title                                                                   \n",
       "Dick Johnson Is Dead   movie kirstenjohnson pg-13 documentaries as he...\n",
       "Blood & Water          tvshow amaqamata khosingema gailmabalane thaba...\n",
       "Ganglands              tvshow julienleclercq samibouajila tracygotoas...\n",
       "Jailbirds New Orleans  tvshow tv-ma docuseries realitytv feuds flirta...\n",
       "Kota Factory           tvshow mayurmore jitendrakumar ranjanraj alamk..."
      ]
     },
     "execution_count": 11,
     "metadata": {},
     "output_type": "execute_result"
    }
   ],
   "source": [
    "new_df.head()"
   ]
  },
  {
   "cell_type": "code",
   "execution_count": 12,
   "metadata": {
    "execution": {
     "iopub.execute_input": "2022-06-03T03:17:30.532553Z",
     "iopub.status.busy": "2022-06-03T03:17:30.531973Z",
     "iopub.status.idle": "2022-06-03T03:17:30.643738Z",
     "shell.execute_reply": "2022-06-03T03:17:30.642809Z",
     "shell.execute_reply.started": "2022-06-03T03:17:30.532519Z"
    }
   },
   "outputs": [],
   "source": [
    "from sklearn.feature_extraction.text import TfidfVectorizer\n",
    "from sklearn.metrics.pairwise import cosine_similarity"
   ]
  },
  {
   "cell_type": "markdown",
   "metadata": {},
   "source": [
    "**TF-IDF** stands for Term Frequency — Inverse Document Frequency. It tells the importance of a word. In a nutshell, The word that appear more frequently in the corpus, it will be considered less importance, hence the tfidf score will be lower. It goes the opposite way with less frequent word|"
   ]
  },
  {
   "cell_type": "code",
   "execution_count": 13,
   "metadata": {
    "execution": {
     "iopub.execute_input": "2022-06-03T03:17:30.646739Z",
     "iopub.status.busy": "2022-06-03T03:17:30.645898Z",
     "iopub.status.idle": "2022-06-03T03:17:31.721486Z",
     "shell.execute_reply": "2022-06-03T03:17:31.720099Z",
     "shell.execute_reply.started": "2022-06-03T03:17:30.646672Z"
    }
   },
   "outputs": [],
   "source": [
    "tfid = TfidfVectorizer()\n",
    "tfid_matrix = tfid.fit_transform(new_df['bag_of_words'])\n",
    "\n",
    "#tfid_matrix.vocabulary_"
   ]
  },
  {
   "cell_type": "code",
   "execution_count": 14,
   "metadata": {
    "execution": {
     "iopub.execute_input": "2022-06-03T03:17:31.723404Z",
     "iopub.status.busy": "2022-06-03T03:17:31.722994Z",
     "iopub.status.idle": "2022-06-03T03:17:36.073263Z",
     "shell.execute_reply": "2022-06-03T03:17:36.071612Z",
     "shell.execute_reply.started": "2022-06-03T03:17:31.723373Z"
    }
   },
   "outputs": [
    {
     "data": {
      "text/plain": [
       "array([[1.00000000e+00, 6.51109225e-03, 2.51508724e-02, ...,\n",
       "        1.22541028e-02, 2.30160299e-02, 3.60339526e-02],\n",
       "       [6.51109225e-03, 1.00000000e+00, 1.02129814e-02, ...,\n",
       "        1.37342009e-03, 0.00000000e+00, 7.44741025e-04],\n",
       "       [2.51508724e-02, 1.02129814e-02, 1.00000000e+00, ...,\n",
       "        7.23719722e-03, 7.21477380e-03, 4.24499407e-02],\n",
       "       ...,\n",
       "       [1.22541028e-02, 1.37342009e-03, 7.23719722e-03, ...,\n",
       "        1.00000000e+00, 1.99475996e-02, 5.30430706e-03],\n",
       "       [2.30160299e-02, 0.00000000e+00, 7.21477380e-03, ...,\n",
       "        1.99475996e-02, 1.00000000e+00, 4.54842501e-03],\n",
       "       [3.60339526e-02, 7.44741025e-04, 4.24499407e-02, ...,\n",
       "        5.30430706e-03, 4.54842501e-03, 1.00000000e+00]])"
      ]
     },
     "execution_count": 14,
     "metadata": {},
     "output_type": "execute_result"
    }
   ],
   "source": [
    "cosine_sim = cosine_similarity(tfid_matrix, tfid_matrix)\n",
    "cosine_sim"
   ]
  },
  {
   "cell_type": "code",
   "execution_count": 15,
   "metadata": {
    "execution": {
     "iopub.execute_input": "2022-06-03T03:17:36.076769Z",
     "iopub.status.busy": "2022-06-03T03:17:36.076052Z",
     "iopub.status.idle": "2022-06-03T03:17:36.085240Z",
     "shell.execute_reply": "2022-06-03T03:17:36.083370Z",
     "shell.execute_reply.started": "2022-06-03T03:17:36.076684Z"
    }
   },
   "outputs": [],
   "source": [
    "# Later on we will combine with similarity as a column\n",
    "final_df = df[['title', 'type']]"
   ]
  },
  {
   "cell_type": "code",
   "execution_count": 16,
   "metadata": {
    "execution": {
     "iopub.execute_input": "2022-06-03T03:17:36.088833Z",
     "iopub.status.busy": "2022-06-03T03:17:36.088183Z",
     "iopub.status.idle": "2022-06-03T03:17:36.103547Z",
     "shell.execute_reply": "2022-06-03T03:17:36.101842Z",
     "shell.execute_reply.started": "2022-06-03T03:17:36.088762Z"
    }
   },
   "outputs": [],
   "source": [
    "def recommendation(title, total_result=5, threshold=0):\n",
    "    # Get the index\n",
    "    idx = final_df[final_df['title'] == title].index[0]\n",
    "    # Create a new column for similarity, the value is different for each title you input\n",
    "    final_df['similarity'] = cosine_sim[idx]\n",
    "    sort_final_df = final_df.sort_values(by='similarity', ascending=False)[1:total_result+1]\n",
    "    \n",
    "    # You can set a threshold if you want to norrow the result down \n",
    "    sort_final_df = sort_final_df[sort_final_df['similarity'] > threshold]\n",
    "    \n",
    "    # Is the title a movie or tv show?\n",
    "    movies = sort_final_df['title'][sort_final_df['type'] == 'Movie']\n",
    "    tv_shows = sort_final_df['title'][sort_final_df['type'] == 'TV Show']\n",
    "    \n",
    "    if len(movies) != 0:\n",
    "        print('Similar Movie(s) list:')\n",
    "        for i, movie in enumerate(movies):\n",
    "            print('{}. {}'.format(i+1, movie))\n",
    "        print()\n",
    "    else:\n",
    "        print('Similar Movie(s) list:')\n",
    "        print('-\\n')\n",
    "        \n",
    "    if len(tv_shows) != 0:\n",
    "        print('Similar TV_show(s) list:')\n",
    "        for i, tv_show in enumerate(tv_shows):\n",
    "            print('{}. {}'.format(i+1, tv_show))\n",
    "    else:\n",
    "        print('Similar TV_show(s) list:')\n",
    "        print('-')"
   ]
  },
  {
   "cell_type": "markdown",
   "metadata": {},
   "source": [
    "### Recommendation Example"
   ]
  },
  {
   "cell_type": "code",
   "execution_count": 26,
   "metadata": {
    "execution": {
     "iopub.execute_input": "2022-06-03T03:17:36.106676Z",
     "iopub.status.busy": "2022-06-03T03:17:36.106066Z",
     "iopub.status.idle": "2022-06-03T03:17:36.131492Z",
     "shell.execute_reply": "2022-06-03T03:17:36.129985Z",
     "shell.execute_reply.started": "2022-06-03T03:17:36.106617Z"
    }
   },
   "outputs": [
    {
     "name": "stdout",
     "output_type": "stream",
     "text": [
      "Similar Movie(s) list:\n",
      "1. The Show\n",
      "2. The Book of Sun\n",
      "\n",
      "Similar TV_show(s) list:\n",
      "1. Better Call Saul\n",
      "2. Marvel's The Punisher\n",
      "3. Dare Me\n"
     ]
    }
   ],
   "source": [
    "recommendation('Breaking Bad')"
   ]
  },
  {
   "cell_type": "code",
   "execution_count": 28,
   "metadata": {
    "execution": {
     "iopub.execute_input": "2022-06-03T03:17:36.135496Z",
     "iopub.status.busy": "2022-06-03T03:17:36.135086Z",
     "iopub.status.idle": "2022-06-03T03:17:36.148028Z",
     "shell.execute_reply": "2022-06-03T03:17:36.146647Z",
     "shell.execute_reply.started": "2022-06-03T03:17:36.135465Z"
    }
   },
   "outputs": [
    {
     "name": "stdout",
     "output_type": "stream",
     "text": [
      "Similar Movie(s) list:\n",
      "1. The Congress\n",
      "\n",
      "Similar TV_show(s) list:\n",
      "1. Narcos: Mexico\n",
      "2. Wild District\n",
      "3. El Cartel\n",
      "4. Miss Dynamite\n",
      "5. Cocaine Cowboys: The Kings of Miami\n",
      "6. The Great Heist\n",
      "7. El Chapo\n",
      "8. Apaches\n",
      "9. Ganglands\n"
     ]
    }
   ],
   "source": [
    "recommendation('Narcos', total_result=10)"
   ]
  },
  {
   "cell_type": "code",
   "execution_count": 29,
   "metadata": {
    "execution": {
     "iopub.execute_input": "2022-06-03T03:17:36.152301Z",
     "iopub.status.busy": "2022-06-03T03:17:36.151714Z",
     "iopub.status.idle": "2022-06-03T03:17:36.168140Z",
     "shell.execute_reply": "2022-06-03T03:17:36.166320Z",
     "shell.execute_reply.started": "2022-06-03T03:17:36.152251Z"
    }
   },
   "outputs": [
    {
     "name": "stdout",
     "output_type": "stream",
     "text": [
      "Similar Movie(s) list:\n",
      "1. Real Steel\n",
      "2. District 9\n",
      "3. 2036 Origin Unknown\n",
      "4. Singularity\n",
      "5. AlphaGo\n",
      "\n",
      "Similar TV_show(s) list:\n",
      "-\n"
     ]
    }
   ],
   "source": [
    "recommendation('Chappie')"
   ]
  },
  {
   "cell_type": "code",
   "execution_count": 30,
   "metadata": {
    "execution": {
     "iopub.execute_input": "2022-06-03T03:17:36.170382Z",
     "iopub.status.busy": "2022-06-03T03:17:36.169932Z",
     "iopub.status.idle": "2022-06-03T03:17:36.187936Z",
     "shell.execute_reply": "2022-06-03T03:17:36.186827Z",
     "shell.execute_reply.started": "2022-06-03T03:17:36.170338Z"
    }
   },
   "outputs": [
    {
     "name": "stdout",
     "output_type": "stream",
     "text": [
      "Similar Movie(s) list:\n",
      "-\n",
      "\n",
      "Similar TV_show(s) list:\n",
      "1. Beyond Stranger Things\n"
     ]
    }
   ],
   "source": [
    "recommendation('Stranger Things', threshold=0.2)"
   ]
  }
 ],
 "metadata": {
  "kernelspec": {
   "display_name": "Python 3 (ipykernel)",
   "language": "python",
   "name": "python3"
  },
  "language_info": {
   "codemirror_mode": {
    "name": "ipython",
    "version": 3
   },
   "file_extension": ".py",
   "mimetype": "text/x-python",
   "name": "python",
   "nbconvert_exporter": "python",
   "pygments_lexer": "ipython3",
   "version": "3.9.0"
  }
 },
 "nbformat": 4,
 "nbformat_minor": 4
}
